{
 "cells": [
  {
   "cell_type": "code",
   "execution_count": 1,
   "metadata": {
    "scrolled": true
   },
   "outputs": [
    {
     "name": "stdout",
     "output_type": "stream",
     "text": [
      "get briefing statement urls 0 / 2\n",
      "get briefing statement urls 1 / 2\n",
      "get briefing statement urls 2 / 2\n",
      "33 urls for all news\n"
     ]
    }
   ],
   "source": [
    "import time\n",
    "import CSIS_scraper\n",
    "from CSIS_scraper import get_allnews_urls\n",
    "from CSIS_scraper import parse_page\n",
    "\n",
    "urls = get_allnews_urls(begin_page=0, end_page=2, verbose=True)\n",
    "print('%d urls for all news' % len(urls))"
   ]
  },
  {
   "cell_type": "code",
   "execution_count": 2,
   "metadata": {
    "scrolled": true
   },
   "outputs": [
    {
     "name": "stdout",
     "output_type": "stream",
     "text": [
      "title : Key Challenges in U.S.-Russian Relations: Are Collaborative Approaches Possible? ..\n",
      "time : 2019-03-13 00:00:00 ..\n",
      "author : None ..\n",
      "content : March 13, 2019\n",
      "Despite the difficult relationship between the United States and Russia, both countri ..\n",
      "url : https://www.csis.org/analysis/key-challenges-us-russian-relations-are-collaborative-approaches-possi ..\n",
      "scrap_time : 2019-03-14-10 11:58:43 ..\n",
      "\n",
      "\n",
      "title : The Kremlin Playbook 2: The Enablers ..\n",
      "time : 2019-03-13 00:00:00 ..\n",
      "author : None ..\n",
      "content : March 13, 2019\n",
      "Andrew Schwartz: Good evening and welcome to CSIS. I’m Andrew Schwartz here at CSIS.  ..\n",
      "url : https://www.csis.org/analysis/kremlin-playbook-2-enablers ..\n",
      "scrap_time : 2019-03-14-10 11:58:44 ..\n",
      "\n",
      "\n",
      "title : DOD and Border Security—At What Price? ..\n",
      "time : 2019-03-13 00:00:00 ..\n",
      "author : , Mark F. Cancian ..\n",
      "content : March 13, 2019\n",
      "The Trump administration recently released its  FY 2020 budget. In it, the administra ..\n",
      "url : https://www.csis.org/analysis/dod-and-border-security-what-price ..\n",
      "scrap_time : 2019-03-14-10 11:58:45 ..\n",
      "\n",
      "\n"
     ]
    }
   ],
   "source": [
    "def pprint(json_object):\n",
    "    for k, v in json_object.items():\n",
    "        print('{} : {} ..'.format(k, str(v)[:100]))\n",
    "    print('\\n')\n",
    "\n",
    "SLEEP = 0.5\n",
    "\n",
    "for url in urls[:3]:\n",
    "    json_object = parse_page(url)\n",
    "    pprint(json_object)"
   ]
  },
  {
   "cell_type": "code",
   "execution_count": 3,
   "metadata": {},
   "outputs": [
    {
     "name": "stdout",
     "output_type": "stream",
     "text": [
      "[1 / 10] (2019-03-13 00:00:00) Key Challenges in U.S.-Russian Relations: Are Collaborative Approaches Possible?\n",
      "[2 / 10] (2019-03-13 00:00:00) The Kremlin Playbook 2: The Enablers\n",
      "[3 / 10] (2019-03-13 00:00:00) DOD and Border Security—At What Price?\n",
      "[4 / 10] (2019-03-13 00:00:00) The Evening: No Deal, Iran’s Defense, Won’t Get Fooled Again and More\n",
      "[5 / 10] (2019-03-13 00:00:00) Spaceports of the World\n",
      "[6 / 10] (2019-03-13 00:00:00) Korea, the JCPOA, and the Shifting Military Balance in the Gulf\n",
      "[7 / 10] (2019-03-13 00:00:00) Pathways for Developing a Natural Gas Vehicle Market \n",
      "[8 / 10] (2019-03-12 00:00:00) The Evening: Brexit, Navy Siege, Bad and More\n",
      "[9 / 10] (2019-03-12 00:00:00) U.S.-India Insight: Surprise! India is a Trading Nation!\n",
      "[10 / 10] (2019-03-12 00:00:00) RESOLVED: Japan Could Play the Russia Card Against China\n"
     ]
    }
   ],
   "source": [
    "from CSIS_scraper import yield_latest_allnews\n",
    "\n",
    "begin_date = '2019-01-01'\n",
    "max_num = 10\n",
    "sleep = 1.0\n",
    "\n",
    "for i, json_obj in enumerate(yield_latest_allnews(begin_date, max_num, sleep)):\n",
    "    title = json_obj['title']\n",
    "    time = json_obj['time']\n",
    "    print('[{} / {}] ({}) {}'.format(i+1, max_num, time, title))"
   ]
  }
 ],
 "metadata": {
  "kernelspec": {
   "display_name": "Python 3",
   "language": "python",
   "name": "python3"
  },
  "language_info": {
   "codemirror_mode": {
    "name": "ipython",
    "version": 3
   },
   "file_extension": ".py",
   "mimetype": "text/x-python",
   "name": "python",
   "nbconvert_exporter": "python",
   "pygments_lexer": "ipython3",
   "version": "3.7.1"
  },
  "varInspector": {
   "cols": {
    "lenName": 16,
    "lenType": 16,
    "lenVar": 40
   },
   "kernels_config": {
    "python": {
     "delete_cmd_postfix": "",
     "delete_cmd_prefix": "del ",
     "library": "var_list.py",
     "varRefreshCmd": "print(var_dic_list())"
    },
    "r": {
     "delete_cmd_postfix": ") ",
     "delete_cmd_prefix": "rm(",
     "library": "var_list.r",
     "varRefreshCmd": "cat(var_dic_list()) "
    }
   },
   "position": {
    "height": "144px",
    "left": "1240px",
    "right": "20px",
    "top": "358px",
    "width": "350px"
   },
   "types_to_exclude": [
    "module",
    "function",
    "builtin_function_or_method",
    "instance",
    "_Feature"
   ],
   "window_display": true
  }
 },
 "nbformat": 4,
 "nbformat_minor": 2
}
