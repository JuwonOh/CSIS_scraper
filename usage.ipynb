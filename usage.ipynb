{
 "cells": [
  {
   "cell_type": "code",
   "execution_count": 1,
   "metadata": {
    "scrolled": true
   },
   "outputs": [
    {
     "name": "stdout",
     "output_type": "stream",
     "text": [
      "get briefing statement urls 1 / 3\n",
      "get briefing statement urls 2 / 3\n",
      "get briefing statement urls 3 / 3\n",
      "36 urls for all news\n"
     ]
    }
   ],
   "source": [
    "import time\n",
    "import CSIS_scraper\n",
    "from CSIS_scraper import get_allnews_urls\n",
    "from CSIS_scraper import parse_page\n",
    "\n",
    "urls = get_allnews_urls(begin_page=1, end_page=3, verbose=True)\n",
    "print('%d urls for all news' % len(urls))"
   ]
  },
  {
   "cell_type": "code",
   "execution_count": 2,
   "metadata": {},
   "outputs": [
    {
     "name": "stdout",
     "output_type": "stream",
     "text": [
      "title : ISP Brief January 2019 ..\n",
      "time : February 1, 2019 ..\n",
      "content : February 1, 2019\n",
      "It's our pleasure to send you the January Edition of the ISP Brief, the monthly new ..\n",
      "url : https://www.csis.org/analysis/isp-brief-january-2019 ..\n",
      "scrap_time : 2019-02-07-05 07:30:28 ..\n",
      "\n",
      "\n",
      "title : The Evening: Senate Rebuke, Think Tank Rankings, Doctor My Eyes and More ..\n",
      "time : January 31, 2019 ..\n",
      "content : January 31, 2019\n",
      "The Senate, in a stinging bipartisan rebuke to President Trump’s foreign policy, vo ..\n",
      "url : https://www.csis.org/analysis/evening-senate-rebuke-think-tank-rankings-doctor-my-eyes-and-more ..\n",
      "scrap_time : 2019-02-07-05 07:30:29 ..\n",
      "\n",
      "\n",
      "title : The Gavi Mid-Term Review: Progress to Date and Prospects for 2021 and Beyond ..\n",
      "time : January 31, 2019 ..\n",
      "content : January 31, 2019\n",
      "Gavi, The Vaccine Alliance, is making good progress toward meeting its current targ ..\n",
      "url : https://www.csis.org/analysis/gavi-mid-term-review-progress-date-and-prospects-2021-and-beyond ..\n",
      "scrap_time : 2019-02-07-05 07:30:31 ..\n",
      "\n",
      "\n"
     ]
    }
   ],
   "source": [
    "def pprint(json_object):\n",
    "    for k, v in json_object.items():\n",
    "        print('{} : {} ..'.format(k, str(v)[:100]))\n",
    "    print('\\n')\n",
    "\n",
    "SLEEP = 0.5\n",
    "\n",
    "for url in urls[:3]:\n",
    "    json_object = parse_page(url)\n",
    "    pprint(json_object)"
   ]
  },
  {
   "cell_type": "code",
   "execution_count": 3,
   "metadata": {},
   "outputs": [
    {
     "name": "stdout",
     "output_type": "stream",
     "text": [
      "[1 / 50] (February 6, 2019) Finishing Strong: Seeking a Proper Exit from Afghanistan\n",
      "[2 / 50] (February 6, 2019) The Asia Reassurance Initiative Act: Reassuring for Australia?\n",
      "[3 / 50] (February 6, 2019) Mitigating Security Risks to Emerging 5G Networks\n",
      "[4 / 50] (February 6, 2019) State of the Trading Union\n",
      "[5 / 50] (February 5, 2019) The Evening: OPEC Pact, Counter BDS Bill, American Pie and More\n",
      "[6 / 50] (February 5, 2019) The Globalization Chameleon\n",
      "[7 / 50] (February 4, 2019) The Evening: ISIS, South Korea, Running On Empty and More\n",
      "[8 / 50] (February 4, 2019) Beating the Air into Submission: Investing in Vertical Lift Modernization\n",
      "[9 / 50] (February 4, 2019) The 2019 Missile Defense Review: What's Next?\n",
      "[10 / 50] (February 4, 2019) The Worldwide Threat Assessment and the Missile Defense Review\n",
      "[11 / 50] (February 4, 2019) U.S.-China Trade Talks and the CBO Report\n",
      "[12 / 50] (February 1, 2019) China Testing Trump in Canada\n",
      "[13 / 50] (February 1, 2019) ISP Brief January 2019\n",
      "[14 / 50] (January 31, 2019) The Evening: Senate Rebuke, Think Tank Rankings, Doctor My Eyes and More\n",
      "[15 / 50] (January 31, 2019) The Gavi Mid-Term Review: Progress to Date and Prospects for 2021 and Beyond\n",
      "[16 / 50] (January 31, 2019) Rape as a Weapon of War: A Conversation with Former Kosovo President Atifete Jahjaga\n",
      "[17 / 50] (January 31, 2019) What to Look for in the FY 2020 Defense Budget Request\n",
      "[18 / 50] (January 30, 2019) The Evening: Intel Push Back, Kurds, Make No Mistake and More\n",
      "[19 / 50] (January 30, 2019) Global Economics Monthly, January 2019\n",
      "[20 / 50] (January 30, 2019) Elections, Crisis, and What to Expect in the Year Ahead\n",
      "[21 / 50] (January 29, 2019) The Evening: Intel Assessment, Venezuela, Moonlight Mile and More\n",
      "[22 / 50] (January 29, 2019) Imperfect Proxies: The Pros and Perils of Partnering with Non-State Actors for CT\n",
      "[23 / 50] (January 29, 2019) U.S. Oil Demand Recovers\n",
      "[24 / 50] (January 29, 2019) The Cybersecurity Workforce Gap\n",
      "[25 / 50] (January 29, 2019) Settling Kurdish Self-Determination in Northeast Syria\n",
      "[26 / 50] (January 29, 2019) Is It Time for a Caribbean Basin Initiative 2.0?\n",
      "[27 / 50] (January 29, 2019) The Trends in Islamic Extremism: Factors Affecting the Future Threat\n",
      "[28 / 50] (January 28, 2019) The Evening: Venezuela Sanctions, Taliban Peace Framework, Keith Richards and More\n",
      "[29 / 50] (January 28, 2019) The Changing Role of Energy in the U.S. Economy\n",
      "[30 / 50] (January 28, 2019) Building a Better Deal with China\n",
      "[31 / 50] (January 28, 2019) Big Is Bad—or Is It?\n",
      "[32 / 50] (January 25, 2019) Venezuela’s Presidential Crisis and the Transition to Democracy\n",
      "[33 / 50] (January 25, 2019) Why Joseph Kabila Lost the Election\n",
      "[34 / 50] (January 25, 2019) The U.S. Withdraws: Syria and Afghanistan\n",
      "[35 / 50] (January 25, 2019) The Evening: Venezuela, Saudi Arabia, White Rabbit and More\n",
      "[36 / 50] (January 24, 2019) Independence Movements and Their Aftermath: Evaluating the Likelihood of Success\n",
      "[37 / 50] (January 24, 2019) Self-Determination and the Struggle for Success: Generalizing the Findings\n",
      "[38 / 50] (January 24, 2019) Juan Guaidó: Venezuela’s Interim President\n",
      "[39 / 50] (January 24, 2019) Former Congresswoman Ileana Ros-Lehtinen Talks Trade\n",
      "[40 / 50] (January 24, 2019) Article 25: An Effective Way to Avert the WTO Crisis?\n",
      "[41 / 50] (January 23, 2019) The Evening: Venezuela, Missile Threat, Many Saints of Newark and More\n",
      "[42 / 50] (January 23, 2019) The Struggle for Control of Occupied Venezuela\n",
      "[43 / 50] (January 23, 2019) U.S.-Japan Trade Talks: What to Expect\n",
      "[44 / 50] (January 23, 2019) America’s Military Spending and the Uncertain Costs of its Wars: The Need for Transparent Reporting\n",
      "[45 / 50] (January 22, 2019) The Evening: Possible Deal, North Korea, Fingerprint File and More\n",
      "[46 / 50] (January 22, 2019) Is the Shutdown Weakening Cybersecurity?\n",
      "[47 / 50] (January 22, 2019) Can the East Med Pipeline Work?\n",
      "[48 / 50] (January 22, 2019) Salvaging the World Trade Organization\n",
      "[49 / 50] (January 22, 2019) Pursuing Effective and Conflict- Aware Stabilization: Framing and Constructing a Roadmap\n",
      "[50 / 50] (January 22, 2019) Influence and Infrastructure: The Strategic Stakes of Foreign Projects\n"
     ]
    }
   ],
   "source": [
    "from CSIS_scraper import yield_latest_allnews\n",
    "\n",
    "begin_date = '2018-07-01'\n",
    "max_num = 50\n",
    "sleep = 1.0\n",
    "\n",
    "for i, json_obj in enumerate(yield_latest_allnews(begin_date, max_num, sleep)):\n",
    "    title = json_obj['title']\n",
    "    time = json_obj['time']\n",
    "    print('[{} / {}] ({}) {}'.format(i+1, max_num, time, title))"
   ]
  }
 ],
 "metadata": {
  "kernelspec": {
   "display_name": "Python 3",
   "language": "python",
   "name": "python3"
  },
  "language_info": {
   "codemirror_mode": {
    "name": "ipython",
    "version": 3
   },
   "file_extension": ".py",
   "mimetype": "text/x-python",
   "name": "python",
   "nbconvert_exporter": "python",
   "pygments_lexer": "ipython3",
   "version": "3.7.1"
  },
  "varInspector": {
   "cols": {
    "lenName": 16,
    "lenType": 16,
    "lenVar": 40
   },
   "kernels_config": {
    "python": {
     "delete_cmd_postfix": "",
     "delete_cmd_prefix": "del ",
     "library": "var_list.py",
     "varRefreshCmd": "print(var_dic_list())"
    },
    "r": {
     "delete_cmd_postfix": ") ",
     "delete_cmd_prefix": "rm(",
     "library": "var_list.r",
     "varRefreshCmd": "cat(var_dic_list()) "
    }
   },
   "types_to_exclude": [
    "module",
    "function",
    "builtin_function_or_method",
    "instance",
    "_Feature"
   ],
   "window_display": true
  }
 },
 "nbformat": 4,
 "nbformat_minor": 2
}
